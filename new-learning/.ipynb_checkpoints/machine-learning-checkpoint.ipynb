{
 "cells": [
  {
   "cell_type": "code",
   "execution_count": 2,
   "id": "b95d1333-7162-4964-8157-4286cadb45e3",
   "metadata": {},
   "outputs": [
    {
     "name": "stdout",
     "output_type": "stream",
     "text": [
      "welcome to machine learning\n",
      "/Users/Projects/Python/new-learning\n"
     ]
    }
   ],
   "source": [
    "print(\"welcome to machine learning\")\n",
    "import os\n",
    "\n",
    "notebook_path = os.getcwd()\n",
    "print(notebook_path)"
   ]
  },
  {
   "cell_type": "code",
   "execution_count": null,
   "id": "5cac3f6b-cb36-4953-a921-0fdcafbb62fc",
   "metadata": {},
   "outputs": [],
   "source": []
  }
 ],
 "metadata": {
  "kernelspec": {
   "display_name": "Python 3 (ipykernel)",
   "language": "python",
   "name": "python3"
  },
  "language_info": {
   "codemirror_mode": {
    "name": "ipython",
    "version": 3
   },
   "file_extension": ".py",
   "mimetype": "text/x-python",
   "name": "python",
   "nbconvert_exporter": "python",
   "pygments_lexer": "ipython3",
   "version": "3.11.7"
  }
 },
 "nbformat": 4,
 "nbformat_minor": 5
}
